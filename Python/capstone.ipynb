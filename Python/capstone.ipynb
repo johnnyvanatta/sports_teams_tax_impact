{
 "cells": [
  {
   "cell_type": "code",
   "execution_count": null,
   "id": "2fc03551-b0dd-4c8f-a702-fbd216aacc2b",
   "metadata": {},
   "outputs": [],
   "source": [
    "import pandas as pd\n",
    "import matplotlib.pyplot as plt\n",
    "import seaborn as sns\n",
    "import numpy as np"
   ]
  },
  {
   "cell_type": "code",
   "execution_count": null,
   "id": "404a77b5-5b31-4ea3-b6f5-cc111e30633e",
   "metadata": {},
   "outputs": [],
   "source": [
    "taxes = pd.read_csv(\"C:/Users/jonat/Documents/Nashville Software School/Capstone Project/CSV/taxes.csv\")"
   ]
  },
  {
   "cell_type": "code",
   "execution_count": null,
   "id": "28cef5e4-e6ab-4713-aab2-6f5782a97f97",
   "metadata": {},
   "outputs": [],
   "source": [
    "teams = pd.read_csv(\"C:/Users/jonat/Documents/Nashville Software School/Capstone Project/CSV/teams.csv\")"
   ]
  },
  {
   "cell_type": "code",
   "execution_count": null,
   "id": "57a25dae-8aea-485f-a093-7cf792624fd2",
   "metadata": {},
   "outputs": [],
   "source": [
    "teams = teams.dropna()"
   ]
  },
  {
   "cell_type": "code",
   "execution_count": null,
   "id": "7f6510bd-4593-4ac1-8748-89d6b6af023a",
   "metadata": {},
   "outputs": [],
   "source": [
    "salary_caps = pd.read_csv(\"C:/Users/jonat/Documents/Nashville Software School/Capstone Project/CSV/salary caps.csv\")"
   ]
  },
  {
   "cell_type": "code",
   "execution_count": null,
   "id": "fdc2db53-cced-4ed1-b7b0-608814933271",
   "metadata": {},
   "outputs": [],
   "source": [
    "locations = pd.read_csv(\"C:/Users/jonat/Documents/Nashville Software School/Capstone Project/CSV/locations.csv\")"
   ]
  },
  {
   "cell_type": "code",
   "execution_count": null,
   "id": "66bb28b8-8038-423b-9c3f-6418badc8816",
   "metadata": {},
   "outputs": [],
   "source": [
    "locations = locations.dropna()"
   ]
  },
  {
   "cell_type": "code",
   "execution_count": null,
   "id": "63bfd1a5-8f60-419b-8a5b-fdc1e61399de",
   "metadata": {},
   "outputs": [],
   "source": [
    "taxes"
   ]
  },
  {
   "cell_type": "code",
   "execution_count": null,
   "id": "e5131c3a-8886-4b26-a03c-ea236a937e19",
   "metadata": {
    "scrolled": true
   },
   "outputs": [],
   "source": [
    "salary_caps"
   ]
  },
  {
   "cell_type": "code",
   "execution_count": null,
   "id": "4054a017-f3a8-4fc7-8bf2-e1b3394b743a",
   "metadata": {
    "scrolled": true
   },
   "outputs": [],
   "source": [
    "teams"
   ]
  },
  {
   "cell_type": "code",
   "execution_count": null,
   "id": "e55c7e65-e88e-4c87-ab92-2bd967f558cd",
   "metadata": {},
   "outputs": [],
   "source": [
    "locations"
   ]
  },
  {
   "cell_type": "code",
   "execution_count": null,
   "id": "f9ec0846-11ef-4ac6-8e9f-054794b04e77",
   "metadata": {},
   "outputs": [],
   "source": [
    "all_teams = pd.merge(teams, locations,\n",
    "                     on = ['league', 'team_id', 'team_name'],\n",
    "                     how = 'inner')"
   ]
  },
  {
   "cell_type": "code",
   "execution_count": null,
   "id": "104823a3-3bc3-424e-89f4-0367415ddf3e",
   "metadata": {
    "scrolled": true
   },
   "outputs": [],
   "source": [
    "all_teams"
   ]
  },
  {
   "cell_type": "code",
   "execution_count": null,
   "id": "4d92e91f-7a58-4220-a257-1ffda7427a8d",
   "metadata": {},
   "outputs": [],
   "source": [
    "team_caps = pd.merge(all_teams, salary_caps,\n",
    "                     on = ['league', 'season'],\n",
    "                     how = 'inner')"
   ]
  },
  {
   "cell_type": "code",
   "execution_count": null,
   "id": "32b63540-8e05-4517-b52e-edb9dcc64e71",
   "metadata": {
    "scrolled": true
   },
   "outputs": [],
   "source": [
    "team_caps.head()"
   ]
  },
  {
   "cell_type": "code",
   "execution_count": null,
   "id": "3d6ad2c1-1e05-4663-97e5-693c0e330400",
   "metadata": {},
   "outputs": [],
   "source": [
    "complete_set = pd.merge(team_caps, taxes,\n",
    "                     on = ['season', 'team_state', 'team_country'],\n",
    "                     how = 'inner')"
   ]
  },
  {
   "cell_type": "code",
   "execution_count": null,
   "id": "238e9a25-28f1-4f11-a720-16a77cec4c0c",
   "metadata": {},
   "outputs": [],
   "source": [
    "complete_set"
   ]
  },
  {
   "cell_type": "code",
   "execution_count": null,
   "id": "11627d0b-dcb1-47b5-80f6-e28d8a2d516c",
   "metadata": {
    "scrolled": true
   },
   "outputs": [],
   "source": [
    "complete_set.info()"
   ]
  },
  {
   "cell_type": "code",
   "execution_count": null,
   "id": "b9bcaad2-4b26-4868-83c5-5ff90bb900e2",
   "metadata": {},
   "outputs": [],
   "source": [
    "corr_matrix = complete_set[['w','l','otl', 'pct', 'net_pts', 'season_rank', 'combined_tax']].corr()"
   ]
  },
  {
   "cell_type": "code",
   "execution_count": null,
   "id": "31aa6156-8600-43b2-9d42-6bffa7d4059a",
   "metadata": {},
   "outputs": [],
   "source": [
    "corr_matrix"
   ]
  },
  {
   "cell_type": "code",
   "execution_count": null,
   "id": "68b15739-b540-4efb-aa18-d895105f083f",
   "metadata": {
    "scrolled": true
   },
   "outputs": [],
   "source": [
    "complete_set"
   ]
  },
  {
   "cell_type": "code",
   "execution_count": null,
   "id": "f6007d69-216d-4e7c-82bb-1fc606eee673",
   "metadata": {
    "scrolled": true
   },
   "outputs": [],
   "source": [
    "top_leagues = complete_set.loc[(complete_set.league == 'NHL') | (complete_set.league == 'NFL')]"
   ]
  },
  {
   "cell_type": "code",
   "execution_count": null,
   "id": "ea7220e6-01e9-41d2-91e2-7f0269d6dca3",
   "metadata": {},
   "outputs": [],
   "source": [
    "top_leagues"
   ]
  },
  {
   "cell_type": "code",
   "execution_count": null,
   "id": "54a44bfe-45ab-413b-bdfc-6c9ba2c49235",
   "metadata": {},
   "outputs": [],
   "source": [
    "top_leagues.to_csv(\"top_leagues.csv\", index = False)"
   ]
  },
  {
   "cell_type": "code",
   "execution_count": null,
   "id": "0b0506dc-9dd8-428b-9437-e530a2c0bbbf",
   "metadata": {},
   "outputs": [],
   "source": []
  }
 ],
 "metadata": {
  "kernelspec": {
   "display_name": "Python [conda env:base] *",
   "language": "python",
   "name": "conda-base-py"
  },
  "language_info": {
   "codemirror_mode": {
    "name": "ipython",
    "version": 3
   },
   "file_extension": ".py",
   "mimetype": "text/x-python",
   "name": "python",
   "nbconvert_exporter": "python",
   "pygments_lexer": "ipython3",
   "version": "3.13.5"
  }
 },
 "nbformat": 4,
 "nbformat_minor": 5
}

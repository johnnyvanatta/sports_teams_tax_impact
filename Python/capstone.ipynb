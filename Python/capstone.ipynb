{
 "cells": [
  {
   "cell_type": "code",
   "execution_count": null,
   "id": "2fc03551-b0dd-4c8f-a702-fbd216aacc2b",
   "metadata": {},
   "outputs": [],
   "source": [
    "import pandas as pd\n",
    "import matplotlib.pyplot as plt\n",
    "import seaborn as sns\n",
    "import numpy as np"
   ]
  },
  {
   "cell_type": "code",
   "execution_count": null,
   "id": "7d5f4e4b-74ca-4d0a-a83e-52e0b1b912bf",
   "metadata": {},
   "outputs": [],
   "source": [
    "taxes = pd.read_csv(\"C:/Users/jonat/Documents/Nashville Software School/Capstone Project/sports_teams_tax_impact/CSV/taxes.csv\")"
   ]
  },
  {
   "cell_type": "code",
   "execution_count": null,
   "id": "e6201881-d41a-4f5b-bb1a-99ae86700fdc",
   "metadata": {},
   "outputs": [],
   "source": [
    "teams = pd.read_csv(\"C:/Users/jonat/Documents/Nashville Software School/Capstone Project/sports_teams_tax_impact/CSV/teams.csv\")"
   ]
  },
  {
   "cell_type": "code",
   "execution_count": null,
   "id": "57a25dae-8aea-485f-a093-7cf792624fd2",
   "metadata": {},
   "outputs": [],
   "source": [
    "teams = teams.dropna()"
   ]
  },
  {
   "cell_type": "code",
   "execution_count": null,
   "id": "d51bd759-c6a9-40dd-b106-658efd19049e",
   "metadata": {
    "scrolled": true
   },
   "outputs": [],
   "source": [
    "teams"
   ]
  },
  {
   "cell_type": "code",
   "execution_count": null,
   "id": "05b67414-ec60-458f-9c45-6d07867c2c7e",
   "metadata": {},
   "outputs": [],
   "source": [
    "teams = teams.loc[(teams.league == 'NHL') | (teams.league == 'NFL')]"
   ]
  },
  {
   "cell_type": "code",
   "execution_count": null,
   "id": "1c334583-74ea-4a65-a505-7f27f24e3bbb",
   "metadata": {},
   "outputs": [],
   "source": [
    "teams['team_id'].value_counts()"
   ]
  },
  {
   "cell_type": "code",
   "execution_count": null,
   "id": "7f6510bd-4593-4ac1-8748-89d6b6af023a",
   "metadata": {},
   "outputs": [],
   "source": [
    "salary_caps = pd.read_csv(\"C:/Users/jonat/Documents/Nashville Software School/Capstone Project/sports_teams_tax_impact/CSV/salary caps.csv\")"
   ]
  },
  {
   "cell_type": "code",
   "execution_count": null,
   "id": "c1722004-abe1-4b2b-b600-103138660644",
   "metadata": {
    "scrolled": true
   },
   "outputs": [],
   "source": [
    "salary_caps"
   ]
  },
  {
   "cell_type": "code",
   "execution_count": null,
   "id": "b124182f-b60e-408b-824f-70c7e7556599",
   "metadata": {},
   "outputs": [],
   "source": [
    "salary_caps = salary_caps.rename(columns = {' salary_cap ': 'salary_cap'})"
   ]
  },
  {
   "cell_type": "code",
   "execution_count": null,
   "id": "fdc2db53-cced-4ed1-b7b0-608814933271",
   "metadata": {},
   "outputs": [],
   "source": [
    "locations = pd.read_csv(\"C:/Users/jonat/Documents/Nashville Software School/Capstone Project/sports_teams_tax_impact/CSV/locations.csv\")"
   ]
  },
  {
   "cell_type": "code",
   "execution_count": null,
   "id": "66bb28b8-8038-423b-9c3f-6418badc8816",
   "metadata": {},
   "outputs": [],
   "source": [
    "locations = locations.dropna()"
   ]
  },
  {
   "cell_type": "code",
   "execution_count": null,
   "id": "fd5b045e-670c-4d1e-afd2-c55febbb04af",
   "metadata": {
    "scrolled": true
   },
   "outputs": [],
   "source": [
    "locations"
   ]
  },
  {
   "cell_type": "code",
   "execution_count": null,
   "id": "f9ec0846-11ef-4ac6-8e9f-054794b04e77",
   "metadata": {},
   "outputs": [],
   "source": [
    "all_teams = pd.merge(teams, locations,\n",
    "                     on = ['league', 'team_id', 'team_name'],\n",
    "                     how = 'inner')"
   ]
  },
  {
   "cell_type": "code",
   "execution_count": null,
   "id": "104823a3-3bc3-424e-89f4-0367415ddf3e",
   "metadata": {
    "scrolled": true
   },
   "outputs": [],
   "source": [
    "all_teams"
   ]
  },
  {
   "cell_type": "code",
   "execution_count": null,
   "id": "959803b3-ded1-4e84-a58d-d4bae519996f",
   "metadata": {},
   "outputs": [],
   "source": [
    "all_teams['team_id'].value_counts()"
   ]
  },
  {
   "cell_type": "code",
   "execution_count": null,
   "id": "4d92e91f-7a58-4220-a257-1ffda7427a8d",
   "metadata": {},
   "outputs": [],
   "source": [
    "team_caps = pd.merge(all_teams, salary_caps,\n",
    "                     on = ['league', 'season'],\n",
    "                     how = 'inner')"
   ]
  },
  {
   "cell_type": "code",
   "execution_count": null,
   "id": "32b63540-8e05-4517-b52e-edb9dcc64e71",
   "metadata": {
    "scrolled": true
   },
   "outputs": [],
   "source": [
    "team_caps"
   ]
  },
  {
   "cell_type": "code",
   "execution_count": null,
   "id": "3d6ad2c1-1e05-4663-97e5-693c0e330400",
   "metadata": {},
   "outputs": [],
   "source": [
    "merged_df = pd.merge(team_caps, taxes,\n",
    "                     on = ['season', 'team_state', 'team_country'],\n",
    "                     how = 'inner')"
   ]
  },
  {
   "cell_type": "code",
   "execution_count": null,
   "id": "238e9a25-28f1-4f11-a720-16a77cec4c0c",
   "metadata": {},
   "outputs": [],
   "source": [
    "merged_df"
   ]
  },
  {
   "cell_type": "code",
   "execution_count": null,
   "id": "990d8cae-870f-438c-9954-b6c19fca596a",
   "metadata": {},
   "outputs": [],
   "source": [
    "merged_df.info()"
   ]
  },
  {
   "cell_type": "code",
   "execution_count": null,
   "id": "3cb40553-0b25-48e0-88e4-ca0fdc41b7d5",
   "metadata": {},
   "outputs": [],
   "source": [
    "eda_1 = merged_df[[\n",
    "    'league',\n",
    "    'season',\n",
    "    'team_name',\n",
    "    'team_state',\n",
    "    'combined_tax',\n",
    "    'salary_cap'\n",
    "]]"
   ]
  },
  {
   "cell_type": "code",
   "execution_count": null,
   "id": "7b633d96-be5a-4fa1-846c-ef1bd04218dd",
   "metadata": {},
   "outputs": [],
   "source": [
    "eda_1"
   ]
  },
  {
   "cell_type": "code",
   "execution_count": null,
   "id": "5932e50c-3606-46c5-aa83-58e85484e928",
   "metadata": {},
   "outputs": [],
   "source": [
    "eda_1.info()"
   ]
  },
  {
   "cell_type": "code",
   "execution_count": null,
   "id": "4337bc08-0101-4cca-b7d0-e2eff5178618",
   "metadata": {},
   "outputs": [],
   "source": [
    "eda_1['salary_cap'] = eda_1['salary_cap'].str.replace('$', '', regex = False)\n",
    "eda_1['salary_cap'] = eda_1['salary_cap'].str.replace(',', '', regex = False)"
   ]
  },
  {
   "cell_type": "code",
   "execution_count": null,
   "id": "f4a5f17a-a5e2-4d76-8d44-cf460059f120",
   "metadata": {},
   "outputs": [],
   "source": [
    "eda_1"
   ]
  },
  {
   "cell_type": "code",
   "execution_count": null,
   "id": "7afe8ab5-67f3-49ca-81f8-c312f20ab834",
   "metadata": {},
   "outputs": [],
   "source": [
    "eda_1['salary_cap'] = pd.to_numeric(eda_1['salary_cap'], errors = 'coerce')"
   ]
  },
  {
   "cell_type": "code",
   "execution_count": null,
   "id": "2454e52c-e94c-4ad3-bc0d-f0042f2334ce",
   "metadata": {},
   "outputs": [],
   "source": [
    "eda_1.info()"
   ]
  },
  {
   "cell_type": "code",
   "execution_count": null,
   "id": "445a6421-7132-4ded-8dbd-f6bd6637854b",
   "metadata": {
    "scrolled": true
   },
   "outputs": [],
   "source": [
    "eda_1['total_taxed'] = eda_1['combined_tax'] * eda_1['salary_cap']"
   ]
  },
  {
   "cell_type": "code",
   "execution_count": null,
   "id": "30a30dce-07bc-41bd-8945-4ada57f8a820",
   "metadata": {
    "scrolled": true
   },
   "outputs": [],
   "source": [
    "eda_1"
   ]
  },
  {
   "cell_type": "code",
   "execution_count": null,
   "id": "643486d3-ab87-42c3-972b-90488f6724fd",
   "metadata": {
    "scrolled": true
   },
   "outputs": [],
   "source": [
    "eda_1['adjusted_cap'] = eda_1['salary_cap'] - eda_1['total_taxed']"
   ]
  },
  {
   "cell_type": "code",
   "execution_count": null,
   "id": "d680a9ab-7a96-43cf-9117-34df16fb9283",
   "metadata": {},
   "outputs": [],
   "source": [
    "eda_1"
   ]
  },
  {
   "cell_type": "code",
   "execution_count": null,
   "id": "435a1783-4d7a-4be8-a07d-5fa32c9583d3",
   "metadata": {},
   "outputs": [],
   "source": [
    "nfl = eda_1.loc[(eda_1.league == 'NFL')]"
   ]
  },
  {
   "cell_type": "code",
   "execution_count": null,
   "id": "6b285fda-05b9-429c-90e9-1f8a09dad413",
   "metadata": {},
   "outputs": [],
   "source": [
    "nhl = eda_1.loc[(eda_1.league == 'NHL')]"
   ]
  },
  {
   "cell_type": "code",
   "execution_count": null,
   "id": "e96c2039-0041-45a8-a195-b2f026dcf80c",
   "metadata": {},
   "outputs": [],
   "source": [
    "nfl"
   ]
  },
  {
   "cell_type": "code",
   "execution_count": null,
   "id": "29fb6e52-6529-4c79-97be-0803a6a622df",
   "metadata": {},
   "outputs": [],
   "source": [
    "idx = nfl.groupby('season')['adjusted_cap'].idxmin()"
   ]
  },
  {
   "cell_type": "code",
   "execution_count": null,
   "id": "63c2619c-b0b1-4b12-85e1-3c0d6959d578",
   "metadata": {},
   "outputs": [],
   "source": [
    "lowest_caps = nfl.loc[idx]"
   ]
  }
 ],
 "metadata": {
  "kernelspec": {
   "display_name": "Python [conda env:base] *",
   "language": "python",
   "name": "conda-base-py"
  },
  "language_info": {
   "codemirror_mode": {
    "name": "ipython",
    "version": 3
   },
   "file_extension": ".py",
   "mimetype": "text/x-python",
   "name": "python",
   "nbconvert_exporter": "python",
   "pygments_lexer": "ipython3",
   "version": "3.13.5"
  }
 },
 "nbformat": 4,
 "nbformat_minor": 5
}
